{
 "cells": [
  {
   "cell_type": "code",
   "execution_count": 254,
   "metadata": {
    "collapsed": false
   },
   "outputs": [
    {
     "name": "stdout",
     "output_type": "stream",
     "text": [
      "Populating the interactive namespace from numpy and matplotlib\n"
     ]
    },
    {
     "name": "stderr",
     "output_type": "stream",
     "text": [
      "WARNING: pylab import has clobbered these variables: ['f', 'random']\n",
      "`%matplotlib` prevents importing * from pylab and numpy\n"
     ]
    }
   ],
   "source": [
    "import pandas as pd\n",
    "import LendingClubFunctions as LC\n",
    "from sklearn.decomposition import PCA\n",
    "import re\n",
    "import sklearn as sk\n",
    "from sklearn import linear_model\n",
    "from sklearn.metrics import mean_squared_error\n",
    "from sklearn.cross_validation import train_test_split\n",
    "from sklearn.linear_model import RidgeCV\n",
    "from sklearn.feature_extraction.text import TfidfVectorizer\n",
    "from sklearn import grid_search\n",
    "from sklearn.feature_extraction.text import CountVectorizer\n",
    "from sklearn.ensemble import RandomForestRegressor\n",
    "from sklearn.tree import DecisionTreeRegressor\n",
    "import nltk\n",
    "from sklearn import tree\n",
    "import numpy as np\n",
    "from sklearn import preprocessing\n",
    "import numpy as np\n",
    "import math\n",
    "from sklearn.svm import SVR\n",
    "from sklearn.pipeline import Pipeline\n",
    "import itertools\n",
    "import random\n",
    "import dill\n",
    "%pylab inline\n",
    "pylab.rcParams['figure.figsize']=(8.0,6.0)\n",
    "from sklearn.ensemble import AdaBoostRegressor"
   ]
  },
  {
   "cell_type": "code",
   "execution_count": 2,
   "metadata": {
    "collapsed": true
   },
   "outputs": [],
   "source": [
    "#Define data location\n",
    "file1='./data/LoanStats3a.csv'\n",
    "file2='./data/LoanStats3b.csv'\n",
    "file3='./data/LoanStats3c.csv'\n",
    "file4='./data/LoanStats3d.csv'\n",
    "files=[file1,file2,file3,file4]"
   ]
  },
  {
   "cell_type": "code",
   "execution_count": 3,
   "metadata": {
    "collapsed": true
   },
   "outputs": [],
   "source": [
    "cols=['loan_amnt','funded_amnt','total_pymnt', 'loan_status', 'int_rate', 'term',\n",
    "      'desc', 'grade', 'annual_inc', 'purpose', 'emp_length', 'earliest_cr_line', \n",
    "      'revol_util', 'home_ownership', 'sub_grade', 'addr_state', 'dti', 'revol_bal', 'installment', 'last_pymnt_d', 'issue_d']"
   ]
  },
  {
   "cell_type": "code",
   "execution_count": 4,
   "metadata": {
    "collapsed": false
   },
   "outputs": [
    {
     "name": "stderr",
     "output_type": "stream",
     "text": [
      "/Users/admin/anaconda/lib/python2.7/site-packages/IPython/core/interactiveshell.py:3006: DtypeWarning: Columns (19) have mixed types. Specify dtype option on import or set low_memory=False.\n",
      "  if self.run_code(code, result):\n"
     ]
    }
   ],
   "source": [
    "#Load data in from files\n",
    "df1=LC.GetData(cols, files)\n",
    "Trouble=[ 'Charged Off', 'Default', 'Does not meet the credit policy.  Status:Charged Off']\n",
    "Success=['Fully Paid', 'Does not meet the credit policy.  Status:Fully Paid']\n",
    "df1=LC.CleanData(df1, Success=Success, Trouble=Trouble)"
   ]
  },
  {
   "cell_type": "code",
   "execution_count": 27,
   "metadata": {
    "collapsed": true
   },
   "outputs": [],
   "source": [
    "class LendingClubTransformer(sk.base.BaseEstimator, sk.base.TransformerMixin):\n",
    "    \"\"\"\n",
    "    A transformer that takes as input a dataframe and a cut-off for variance explained. Then \n",
    "    performs PCA on the relevant columns and returns a matrix explaining the requested amount\n",
    "    of variance\n",
    "    \"\"\"\n",
    "    def __init__(self, cols=[], varExp=100):\n",
    "        self.cols=cols\n",
    "        self.varExp=varExp\n",
    "        self.means=[]\n",
    "        self.stds=[]\n",
    "        self.pca=PCA()\n",
    "        self.ElVarExp=None\n",
    "        pass\n",
    "\n",
    "    def fit(self, X, y=[]):\n",
    "        return self.fit_transform(X)\n",
    "    \n",
    "    def fit_transform(self, X, y=[]):\n",
    "        \n",
    "        self.means=X.describe().ix['mean']\n",
    "        self.stds=X.describe().ix['std']\n",
    "        Xs=X[self.cols].dropna().copy()\n",
    "        for col in Xs.columns:\n",
    "            Xs[col]= (Xs[col]-self.means[col])/self.stds[col]\n",
    "\n",
    "        self.pca.fit(Xs)\n",
    "        el=np.argmax(self.pca.explained_variance_ratio_.cumsum()>self.varExp)\n",
    "        self.ElVarExp=el\n",
    "        Xs=self.pca.transform(Xs)[:, :(self.ElVarExp+1)]\n",
    "        return Xs\n",
    "\n",
    "    def transform(self, X):\n",
    "        Xs=X[self.cols].dropna().copy()\n",
    "        for col in Xs.columns:\n",
    "            Xs[col]= (Xs[col]-self.means[col])/self.stds[col]\n",
    "        Xs=self.pca.transform(Xs)[:, :(self.ElVarExp+1)]\n",
    "        return Xs"
   ]
  },
  {
   "cell_type": "code",
   "execution_count": 28,
   "metadata": {
    "collapsed": true
   },
   "outputs": [],
   "source": [
    "class yLendingClubTransformer(sk.base.BaseEstimator, sk.base.TransformerMixin):\n",
    "    \"\"\"\n",
    "    A transformer that takes as input a dataframe and the desired columns as features and returns the requests label\n",
    "    \"\"\"\n",
    "    def __init__(self, cols=[], label=None):\n",
    "        self.cols=[col for col in cols]\n",
    "        self.cols.append(label)\n",
    "        self.label=label\n",
    "        pass\n",
    "    \n",
    "\n",
    "    def transform(self, X):\n",
    "        return (X[self.cols].dropna())[self.label].as_matrix()"
   ]
  },
  {
   "cell_type": "code",
   "execution_count": 229,
   "metadata": {
    "collapsed": false
   },
   "outputs": [],
   "source": [
    "class CompositePredictor(sk.base.BaseEstimator, sk.base.TransformerMixin):\n",
    "    \"\"\"\n",
    "    A composite predictor that takes in cats, the number of categorical variables that different models\n",
    "    will be fit on, features, the features to fit to, and Model, the model to be used. The fit model fits a model \n",
    "    to every unique occurance for each category in cats.\n",
    "    \"\"\"\n",
    "    def __init__(self, cats=[], features=[],Model=linear_model.Ridge()):\n",
    "        self.cats=[cat for cat in cats]\n",
    "        self.feats=[feat for feat in features]\n",
    "        self.Models={}\n",
    "        self.Model=Model\n",
    "        self.Transform=LendingClubTransformer(cols=self.feats, varExp=.95)\n",
    "        self.Transforms={}\n",
    "        pass\n",
    "\n",
    "    def fit(self, X, y=[]):\n",
    "        modelcats=[]\n",
    "        for cat in self.cats:\n",
    "            modelcats.append([item for item in X[cat].unique()])\n",
    "        for item in itertools.product(*modelcats):\n",
    "            self.Models[item]=self.Model\n",
    "            \n",
    "        for subcat in self.Models.keys():\n",
    "            temp=X.copy()\n",
    "            for c,v in zip(subcat, self.cats):\n",
    "                temp=temp[temp[v]==c]\n",
    "            if temp[self.feats].dropna().shape[0]>5:           \n",
    "                self.Transforms[subcat]=self.Transform\n",
    "                ytrain=yLendingClubTransformer(cols=self.feats, label='Fraction_Of_Total').transform(temp) \n",
    "                Xtrain=temp[self.feats].dropna()#(self.Transforms[subcat]).fit_transform(temp[self.feats].dropna())\n",
    "                self.Models[subcat].fit(Xtrain, ytrain)\n",
    "        \n",
    "        return\n",
    "    \n",
    "    def predictsub(self,X):\n",
    "        subcat=[]\n",
    "        for cat in self.cats:\n",
    "            subcat.append(X.ix[cat])\n",
    "        \n",
    "        subcat=tuple(subcat)\n",
    "        #Xtemp=(self.Transforms[subcat]).transform(X)\n",
    "        return self.Models[subcat].predict(X[self.feats])\n",
    "        \n",
    "    \n",
    "    def predict(self, X):\n",
    "        \n",
    "        return (X.T).apply(self.predictsub).as_matrix()[0,:]\n",
    "        "
   ]
  },
  {
   "cell_type": "code",
   "execution_count": 231,
   "metadata": {
    "collapsed": true
   },
   "outputs": [],
   "source": [
    "features=['annual_inc','int_rate']\n",
    "model=grid_search.GridSearchCV(linear_model.Ridge() , {'alpha':( 0.00005,0.0001,0.001,0.11, .5,5, 10, 20, 40, 60, 90, 100, 150)}, cv=4, verbose=False)\n",
    "cats=['purpose']"
   ]
  },
  {
   "cell_type": "code",
   "execution_count": 242,
   "metadata": {
    "collapsed": true
   },
   "outputs": [],
   "source": [
    "CompModel=CompositePredictor(cats=cats, features=features, Model=model)"
   ]
  },
  {
   "cell_type": "code",
   "execution_count": 243,
   "metadata": {
    "collapsed": false
   },
   "outputs": [],
   "source": [
    "dfTrain, dfTest = train_test_split(df1[df1.loan_status!=2].dropna(), test_size=0.4)"
   ]
  },
  {
   "cell_type": "code",
   "execution_count": 245,
   "metadata": {
    "collapsed": true
   },
   "outputs": [
    {
     "name": "stderr",
     "output_type": "stream",
     "text": [
      "[Parallel(n_jobs=1)]: Done   1 jobs       | elapsed:    0.0s\n",
      "[Parallel(n_jobs=1)]: Done  50 jobs       | elapsed:    0.2s\n"
     ]
    },
    {
     "name": "stdout",
     "output_type": "stream",
     "text": [
      "Fitting 4 folds for each of 13 candidates, totalling 52 fits\n",
      "Fitting 4 folds for each of 13 candidates, totalling 52 fits"
     ]
    },
    {
     "name": "stderr",
     "output_type": "stream",
     "text": [
      "[Parallel(n_jobs=1)]: Done  52 out of  52 | elapsed:    0.2s finished\n",
      "[Parallel(n_jobs=1)]: Done   1 jobs       | elapsed:    0.0s\n",
      "[Parallel(n_jobs=1)]: Done  50 jobs       | elapsed:    0.5s\n"
     ]
    },
    {
     "name": "stdout",
     "output_type": "stream",
     "text": [
      "\n",
      "Fitting 4 folds for each of 13 candidates, totalling 52 fits"
     ]
    },
    {
     "name": "stderr",
     "output_type": "stream",
     "text": [
      "[Parallel(n_jobs=1)]: Done  52 out of  52 | elapsed:    0.5s finished\n",
      "[Parallel(n_jobs=1)]: Done   1 jobs       | elapsed:    0.0s\n",
      "[Parallel(n_jobs=1)]: Done  50 jobs       | elapsed:    0.1s\n"
     ]
    },
    {
     "name": "stdout",
     "output_type": "stream",
     "text": [
      "\n",
      "Fitting 4 folds for each of 13 candidates, totalling 52 fits"
     ]
    },
    {
     "name": "stderr",
     "output_type": "stream",
     "text": [
      "[Parallel(n_jobs=1)]: Done  52 out of  52 | elapsed:    0.1s finished\n",
      "[Parallel(n_jobs=1)]: Done   1 jobs       | elapsed:    0.0s\n",
      "[Parallel(n_jobs=1)]: Done  50 jobs       | elapsed:    0.1s\n"
     ]
    },
    {
     "name": "stdout",
     "output_type": "stream",
     "text": [
      "\n",
      "Fitting 4 folds for each of 13 candidates, totalling 52 fits"
     ]
    },
    {
     "name": "stderr",
     "output_type": "stream",
     "text": [
      "[Parallel(n_jobs=1)]: Done  52 out of  52 | elapsed:    0.1s finished\n",
      "[Parallel(n_jobs=1)]: Done   1 jobs       | elapsed:    0.0s\n",
      "[Parallel(n_jobs=1)]: Done  50 jobs       | elapsed:    0.1s\n"
     ]
    },
    {
     "name": "stdout",
     "output_type": "stream",
     "text": [
      "\n",
      "Fitting 4 folds for each of 13 candidates, totalling 52 fits"
     ]
    },
    {
     "name": "stderr",
     "output_type": "stream",
     "text": [
      "[Parallel(n_jobs=1)]: Done  52 out of  52 | elapsed:    0.1s finished\n",
      "[Parallel(n_jobs=1)]: Done   1 jobs       | elapsed:    0.0s\n",
      "[Parallel(n_jobs=1)]: Done  50 jobs       | elapsed:    0.1s\n"
     ]
    },
    {
     "name": "stdout",
     "output_type": "stream",
     "text": [
      "\n",
      "Fitting 4 folds for each of 13 candidates, totalling 52 fits"
     ]
    },
    {
     "name": "stderr",
     "output_type": "stream",
     "text": [
      "[Parallel(n_jobs=1)]: Done  52 out of  52 | elapsed:    0.1s finished\n",
      "[Parallel(n_jobs=1)]: Done   1 jobs       | elapsed:    0.0s\n",
      "[Parallel(n_jobs=1)]: Done  50 jobs       | elapsed:    0.1s\n"
     ]
    },
    {
     "name": "stdout",
     "output_type": "stream",
     "text": [
      "\n",
      "Fitting 4 folds for each of 13 candidates, totalling 52 fits"
     ]
    },
    {
     "name": "stderr",
     "output_type": "stream",
     "text": [
      "[Parallel(n_jobs=1)]: Done  52 out of  52 | elapsed:    0.1s finished\n",
      "[Parallel(n_jobs=1)]: Done   1 jobs       | elapsed:    0.0s\n",
      "[Parallel(n_jobs=1)]: Done  50 jobs       | elapsed:    0.1s\n"
     ]
    },
    {
     "name": "stdout",
     "output_type": "stream",
     "text": [
      "\n",
      "Fitting 4 folds for each of 13 candidates, totalling 52 fits"
     ]
    },
    {
     "name": "stderr",
     "output_type": "stream",
     "text": [
      "[Parallel(n_jobs=1)]: Done  52 out of  52 | elapsed:    0.1s finished\n",
      "[Parallel(n_jobs=1)]: Done   1 jobs       | elapsed:    0.0s\n",
      "[Parallel(n_jobs=1)]: Done  50 jobs       | elapsed:    0.1s\n"
     ]
    },
    {
     "name": "stdout",
     "output_type": "stream",
     "text": [
      "\n",
      "Fitting 4 folds for each of 13 candidates, totalling 52 fits"
     ]
    },
    {
     "name": "stderr",
     "output_type": "stream",
     "text": [
      "[Parallel(n_jobs=1)]: Done  52 out of  52 | elapsed:    0.1s finished\n",
      "[Parallel(n_jobs=1)]: Done   1 jobs       | elapsed:    0.0s\n",
      "[Parallel(n_jobs=1)]: Done  50 jobs       | elapsed:    0.1s\n"
     ]
    },
    {
     "name": "stdout",
     "output_type": "stream",
     "text": [
      "\n",
      "Fitting 4 folds for each of 13 candidates, totalling 52 fits"
     ]
    },
    {
     "name": "stderr",
     "output_type": "stream",
     "text": [
      "[Parallel(n_jobs=1)]: Done  52 out of  52 | elapsed:    0.1s finished\n",
      "[Parallel(n_jobs=1)]: Done   1 jobs       | elapsed:    0.0s\n",
      "[Parallel(n_jobs=1)]: Done  50 jobs       | elapsed:    0.1s\n"
     ]
    },
    {
     "name": "stdout",
     "output_type": "stream",
     "text": [
      "\n",
      "Fitting 4 folds for each of 13 candidates, totalling 52 fits"
     ]
    },
    {
     "name": "stderr",
     "output_type": "stream",
     "text": [
      "[Parallel(n_jobs=1)]: Done  52 out of  52 | elapsed:    0.1s finished\n",
      "[Parallel(n_jobs=1)]: Done   1 jobs       | elapsed:    0.0s\n",
      "[Parallel(n_jobs=1)]: Done  50 jobs       | elapsed:    0.1s\n"
     ]
    },
    {
     "name": "stdout",
     "output_type": "stream",
     "text": [
      "\n",
      "Fitting 4 folds for each of 13 candidates, totalling 52 fits"
     ]
    },
    {
     "name": "stderr",
     "output_type": "stream",
     "text": [
      "[Parallel(n_jobs=1)]: Done  52 out of  52 | elapsed:    0.1s finished\n",
      "[Parallel(n_jobs=1)]: Done   1 jobs       | elapsed:    0.0s\n",
      "[Parallel(n_jobs=1)]: Done  50 jobs       | elapsed:    0.1s\n"
     ]
    },
    {
     "name": "stdout",
     "output_type": "stream",
     "text": [
      "\n",
      "Fitting 4 folds for each of 13 candidates, totalling 52 fits"
     ]
    },
    {
     "name": "stderr",
     "output_type": "stream",
     "text": [
      "[Parallel(n_jobs=1)]: Done  52 out of  52 | elapsed:    0.1s finished\n",
      "[Parallel(n_jobs=1)]: Done   1 jobs       | elapsed:    0.0s\n",
      "[Parallel(n_jobs=1)]: Done  50 jobs       | elapsed:    0.1s\n"
     ]
    },
    {
     "name": "stdout",
     "output_type": "stream",
     "text": [
      "\n"
     ]
    },
    {
     "name": "stderr",
     "output_type": "stream",
     "text": [
      "[Parallel(n_jobs=1)]: Done  52 out of  52 | elapsed:    0.1s finished\n"
     ]
    }
   ],
   "source": [
    "CompModel.fit(dfTrain)"
   ]
  },
  {
   "cell_type": "code",
   "execution_count": 247,
   "metadata": {
    "collapsed": false
   },
   "outputs": [],
   "source": [
    "predictions=CompModel.predict(dfTest)\n",
    "yTest=yLendingClubTransformer(cols=features, label='Fraction_Of_Total').transform(dfTest)"
   ]
  },
  {
   "cell_type": "code",
   "execution_count": 250,
   "metadata": {
    "collapsed": false
   },
   "outputs": [
    {
     "data": {
      "text/plain": [
       "array([ 0.92944821,  0.77891551,  0.84107634, ...,  0.95229975,\n",
       "        0.89179086,  0.80910077])"
      ]
     },
     "execution_count": 250,
     "metadata": {},
     "output_type": "execute_result"
    }
   ],
   "source": [
    "predictions"
   ]
  },
  {
   "cell_type": "code",
   "execution_count": 251,
   "metadata": {
    "collapsed": false
   },
   "outputs": [
    {
     "data": {
      "text/plain": [
       "array([ 0.96982456,  0.72403276,  0.97185285, ...,  0.95234493,\n",
       "        0.95848042,  0.94267356])"
      ]
     },
     "execution_count": 251,
     "metadata": {},
     "output_type": "execute_result"
    }
   ],
   "source": [
    "yTest"
   ]
  },
  {
   "cell_type": "code",
   "execution_count": 252,
   "metadata": {
    "collapsed": false
   },
   "outputs": [
    {
     "data": {
      "text/plain": [
       "0.21966061910694146"
      ]
     },
     "execution_count": 252,
     "metadata": {},
     "output_type": "execute_result"
    }
   ],
   "source": [
    "math.sqrt(mean_squared_error(yTest, predictions))"
   ]
  },
  {
   "cell_type": "code",
   "execution_count": 255,
   "metadata": {
    "collapsed": false
   },
   "outputs": [],
   "source": [
    "f=open('CompositeModel.txt', 'w')\n",
    "print >> f, dill.dumps(CompModel)\n",
    "f.close()"
   ]
  }
 ],
 "metadata": {
  "kernelspec": {
   "display_name": "Python 2",
   "language": "python",
   "name": "python2"
  },
  "language_info": {
   "codemirror_mode": {
    "name": "ipython",
    "version": 2
   },
   "file_extension": ".py",
   "mimetype": "text/x-python",
   "name": "python",
   "nbconvert_exporter": "python",
   "pygments_lexer": "ipython2",
   "version": "2.7.10"
  }
 },
 "nbformat": 4,
 "nbformat_minor": 0
}
