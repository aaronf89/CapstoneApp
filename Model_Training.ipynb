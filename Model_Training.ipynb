{
 "cells": [
  {
   "cell_type": "code",
   "execution_count": 1,
   "metadata": {
    "collapsed": false
   },
   "outputs": [
    {
     "name": "stdout",
     "output_type": "stream",
     "text": [
      "Populating the interactive namespace from numpy and matplotlib\n"
     ]
    }
   ],
   "source": [
    "import pandas as pd\n",
    "import LendingClubFunctions as LC\n",
    "from sklearn.decomposition import PCA\n",
    "import sklearn as sk\n",
    "from sklearn import preprocessing\n",
    "from sklearn.pipeline import Pipeline\n",
    "from sklearn import linear_model\n",
    "from sklearn.metrics import mean_squared_error\n",
    "from sklearn.cross_validation import train_test_split\n",
    "from sklearn.linear_model import RidgeCV\n",
    "from sklearn import grid_search\n",
    "\n",
    "\n",
    "%pylab inline\n",
    "pylab.rcParams['figure.figsize']=(8.0,6.0)\n",
    "from sklearn.ensemble import AdaBoostRegressor"
   ]
  },
  {
   "cell_type": "code",
   "execution_count": 2,
   "metadata": {
    "collapsed": true
   },
   "outputs": [],
   "source": [
    "#Define data location\n",
    "file1='./data/LoanStats3a.csv'\n",
    "file2='./data/LoanStats3b.csv'\n",
    "file3='./data/LoanStats3c.csv'\n",
    "file4='./data/LoanStats3d.csv'\n",
    "files=[file1,file2,file3,file4]"
   ]
  },
  {
   "cell_type": "code",
   "execution_count": 3,
   "metadata": {
    "collapsed": true
   },
   "outputs": [],
   "source": [
    "cols=['loan_amnt','funded_amnt','total_pymnt', 'loan_status', 'int_rate', 'term',\n",
    "      'desc', 'grade', 'annual_inc', 'purpose', 'emp_length', 'earliest_cr_line', \n",
    "      'revol_util', 'home_ownership', 'sub_grade', 'addr_state', 'dti', 'revol_bal', 'installment', 'last_pymnt_d', 'issue_d']"
   ]
  },
  {
   "cell_type": "code",
   "execution_count": 4,
   "metadata": {
    "collapsed": false
   },
   "outputs": [
    {
     "name": "stderr",
     "output_type": "stream",
     "text": [
      "/Users/admin/anaconda/lib/python2.7/site-packages/IPython/core/interactiveshell.py:3006: DtypeWarning: Columns (19) have mixed types. Specify dtype option on import or set low_memory=False.\n",
      "  if self.run_code(code, result):\n"
     ]
    }
   ],
   "source": [
    "#Load data in from files\n",
    "df1=LC.GetData(cols, files)\n",
    "Trouble=[ 'Charged Off', 'Default', 'Does not meet the credit policy.  Status:Charged Off']\n",
    "Success=['Fully Paid', 'Does not meet the credit policy.  Status:Fully Paid']\n",
    "df1=LC.CleanData(df1, Success=Success, Trouble=Trouble)"
   ]
  },
  {
   "cell_type": "code",
   "execution_count": 5,
   "metadata": {
    "collapsed": false
   },
   "outputs": [
    {
     "data": {
      "text/plain": [
       "<matplotlib.axes._subplots.AxesSubplot at 0x112c17cd0>"
      ]
     },
     "execution_count": 5,
     "metadata": {},
     "output_type": "execute_result"
    },
    {
     "data": {
      "image/png": "[encoded data removed]",
      "text/plain": [
       "<matplotlib.figure.Figure at 0x103f5d890>"
      ]
     },
     "metadata": {},
     "output_type": "display_data"
    }
   ],
   "source": [
    "(100*(df1.groupby('OldStatus').count().loan_amnt)/df1.loan_amnt.count()).plot(kind='bar')"
   ]
  },
  {
   "cell_type": "code",
   "execution_count": 6,
   "metadata": {
    "collapsed": true
   },
   "outputs": [],
   "source": [
    "class LendingClubTransformer(sk.base.BaseEstimator, sk.base.TransformerMixin):\n",
    "    \"\"\"\n",
    "    A transformer that takes as input a dataframe and a cut-off for variance explained. Then \n",
    "    performs PCA on the relevant columns and returns a matrix explaining the requested amount\n",
    "    of variance\n",
    "    \"\"\"\n",
    "    def __init__(self, cols=[], varExp=100):\n",
    "        self.cols=cols\n",
    "        self.varExp=varExp\n",
    "        self.means=[]\n",
    "        self.stds=[]\n",
    "        self.pca=PCA()\n",
    "        self.ElVarExp=None\n",
    "        pass\n",
    "\n",
    "    def fit(self, X, y=[]):\n",
    "        return self.fit_transform(X)\n",
    "    \n",
    "    def fit_transform(self, X, y=[]):\n",
    "        \n",
    "        self.means=X.describe().ix['mean']\n",
    "        self.stds=X.describe().ix['std']\n",
    "        Xs=X[self.cols].dropna().copy()\n",
    "        for col in Xs.columns:\n",
    "            Xs[col]= (Xs[col]-self.means[col])/self.stds[col]\n",
    "\n",
    "        self.pca.fit(Xs)\n",
    "        el=np.argmax(self.pca.explained_variance_ratio_.cumsum()>self.varExp)\n",
    "        self.ElVarExp=el\n",
    "        Xs=self.pca.transform(Xs)[:, :(self.ElVarExp+1)]\n",
    "        return Xs\n",
    "\n",
    "    def transform(self, X):\n",
    "        Xs=X[self.cols].dropna().copy()\n",
    "        for col in Xs.columns:\n",
    "            Xs[col]= (Xs[col]-self.means[col])/self.stds[col]\n",
    "        Xs=self.pca.transform(Xs)[:, :(self.ElVarExp+1)]\n",
    "        return Xs"
   ]
  },
  {
   "cell_type": "code",
   "execution_count": 7,
   "metadata": {
    "collapsed": false
   },
   "outputs": [],
   "source": [
    "class yLendingClubTransformer(sk.base.BaseEstimator, sk.base.TransformerMixin):\n",
    "    \"\"\"\n",
    "    A transformer that takes as input a dataframe and the desired columns as features and returns the requests label\n",
    "    \"\"\"\n",
    "    def __init__(self, cols=[], label=None):\n",
    "        self.cols=[col for col in cols]\n",
    "        self.cols.append(label)\n",
    "        self.label=label\n",
    "        pass\n",
    "    \n",
    "\n",
    "    def transform(self, X):\n",
    "        return (X[self.cols].dropna())[self.label].as_matrix()"
   ]
  },
  {
   "cell_type": "code",
   "execution_count": 8,
   "metadata": {
    "collapsed": false
   },
   "outputs": [],
   "source": [
    "features=['loan_amnt','annual_inc','earliest_cr_line', 'revol_util','dti', 'int_rate']\n",
    "#features=['revol_util','dti', 'int_rate']\n",
    "Transformer=LendingClubTransformer(cols=features, varExp=.95)\n",
    "dfTrain, dfTest = train_test_split(df1[df1.loan_status!=2].dropna(), test_size=0.4)\n",
    "yTransformer=yLendingClubTransformer(cols=features, label='Fraction_Of_Total')\n",
    "y=yTransformer.transform(dfTrain)\n",
    "yTest=yTransformer.transform(dfTest)\n",
    "Xtrain=Transformer.fit_transform(dfTrain[features].dropna())\n",
    "Xtest=Transformer.transform(dfTest[features].dropna())\n",
    "#Model=RandomForestRegressor(n_estimators=50)"
   ]
  },
  {
   "cell_type": "code",
   "execution_count": 9,
   "metadata": {
    "collapsed": false
   },
   "outputs": [],
   "source": [
    "LMCV=grid_search.GridSearchCV(linear_model.Ridge(), {'alpha':(.1, .00001, 10, 100)}, cv=5, verbose=True) "
   ]
  },
  {
   "cell_type": "code",
   "execution_count": 10,
   "metadata": {
    "collapsed": false
   },
   "outputs": [
    {
     "name": "stderr",
     "output_type": "stream",
     "text": [
      "[Parallel(n_jobs=1)]: Done   1 jobs       | elapsed:    0.0s\n",
      "[Parallel(n_jobs=1)]: Done  20 out of  20 | elapsed:    0.3s finished\n"
     ]
    },
    {
     "name": "stdout",
     "output_type": "stream",
     "text": [
      "Fitting 5 folds for each of 4 candidates, totalling 20 fits\n"
     ]
    },
    {
     "data": {
      "text/plain": [
       "GridSearchCV(cv=5, error_score='raise',\n",
       "       estimator=Ridge(alpha=1.0, copy_X=True, fit_intercept=True, max_iter=None,\n",
       "   normalize=False, solver='auto', tol=0.001),\n",
       "       fit_params={}, iid=True, loss_func=None, n_jobs=1,\n",
       "       param_grid={'alpha': (0.1, 1e-05, 10, 100)},\n",
       "       pre_dispatch='2*n_jobs', refit=True, score_func=None, scoring=None,\n",
       "       verbose=True)"
      ]
     },
     "execution_count": 10,
     "metadata": {},
     "output_type": "execute_result"
    }
   ],
   "source": [
    "LMCV.fit(dfTrain[features].dropna(), y)"
   ]
  },
  {
   "cell_type": "code",
   "execution_count": 11,
   "metadata": {
    "collapsed": false
   },
   "outputs": [
    {
     "data": {
      "text/plain": [
       "[mean: 0.14673, std: 0.00797, params: {'alpha': 0.1},\n",
       " mean: 0.14673, std: 0.00798, params: {'alpha': 1e-05},\n",
       " mean: 0.14393, std: 0.00745, params: {'alpha': 10},\n",
       " mean: 0.10162, std: 0.00560, params: {'alpha': 100}]"
      ]
     },
     "execution_count": 11,
     "metadata": {},
     "output_type": "execute_result"
    }
   ],
   "source": [
    "LMCV.grid_scores_"
   ]
  },
  {
   "cell_type": "code",
   "execution_count": 12,
   "metadata": {
    "collapsed": false
   },
   "outputs": [
    {
     "data": {
      "text/plain": [
       "Ridge(alpha=1e-05, copy_X=True, fit_intercept=True, max_iter=None,\n",
       "   normalize=False, solver='auto', tol=0.001)"
      ]
     },
     "execution_count": 12,
     "metadata": {},
     "output_type": "execute_result"
    }
   ],
   "source": [
    "LMCV.best_estimator_"
   ]
  },
  {
   "cell_type": "code",
   "execution_count": 13,
   "metadata": {
    "collapsed": false
   },
   "outputs": [
    {
     "data": {
      "text/plain": [
       "0.14904678723041298"
      ]
     },
     "execution_count": 13,
     "metadata": {},
     "output_type": "execute_result"
    }
   ],
   "source": [
    "LMCV.score(dfTest[features].dropna(), yTest)"
   ]
  },
  {
   "cell_type": "code",
   "execution_count": 14,
   "metadata": {
    "collapsed": true
   },
   "outputs": [],
   "source": [
    "predictions=LMCV.predict(dfTest[features].dropna())"
   ]
  },
  {
   "cell_type": "code",
   "execution_count": 15,
   "metadata": {
    "collapsed": false
   },
   "outputs": [
    {
     "data": {
      "text/plain": [
       "0.21478719201848459"
      ]
     },
     "execution_count": 15,
     "metadata": {},
     "output_type": "execute_result"
    }
   ],
   "source": [
    "np.sqrt(mean_squared_error(yTest, predictions))"
   ]
  },
  {
   "cell_type": "code",
   "execution_count": 16,
   "metadata": {
    "collapsed": true
   },
   "outputs": [],
   "source": [
    "import dill\n",
    "f=open('LinearModel2.txt', 'w')\n",
    "print >> f, dill.dumps(LMCV)\n",
    "f.close()"
   ]
  },
  {
   "cell_type": "code",
   "execution_count": null,
   "metadata": {
    "collapsed": true
   },
   "outputs": [],
   "source": []
  }
 ],
 "metadata": {
  "kernelspec": {
   "display_name": "Python 2",
   "language": "python",
   "name": "python2"
  },
  "language_info": {
   "codemirror_mode": {
    "name": "ipython",
    "version": 2
   },
   "file_extension": ".py",
   "mimetype": "text/x-python",
   "name": "python",
   "nbconvert_exporter": "python",
   "pygments_lexer": "ipython2",
   "version": "2.7.11"
  }
 },
 "nbformat": 4,
 "nbformat_minor": 0
}
